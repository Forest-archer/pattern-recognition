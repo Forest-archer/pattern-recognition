{
 "cells": [
  {
   "cell_type": "code",
   "execution_count": 1,
   "metadata": {},
   "outputs": [
    {
     "name": "stdout",
     "output_type": "stream",
     "text": [
      "Jupyter environment detected. Enabling Open3D WebVisualizer.\n",
      "[Open3D INFO] WebRTC GUI backend enabled.\n",
      "[Open3D INFO] WebRTCWindowSystem: HTTP handshake server disabled.\n"
     ]
    }
   ],
   "source": [
    "import open3d as o3d"
   ]
  },
  {
   "cell_type": "code",
   "execution_count": 10,
   "metadata": {},
   "outputs": [
    {
     "data": {
      "text/plain": [
       "True"
      ]
     },
     "execution_count": 10,
     "metadata": {},
     "output_type": "execute_result"
    }
   ],
   "source": [
    "mesh = o3d.io.read_triangle_mesh(\"Segmentation_Segment_2.stl\")\n",
    "o3d.io.write_triangle_mesh(\"result.ply\", mesh)"
   ]
  },
  {
   "cell_type": "code",
   "execution_count": 10,
   "metadata": {},
   "outputs": [
    {
     "name": "stdout",
     "output_type": "stream",
     "text": [
      "SPAI-01_preop_Spine.stl\n",
      "SPAI-03-Spine.stl\n",
      "SPAI-07-Spine.stl\n",
      "SPAI-09-Spine.stl\n",
      "SPAI-10-Spine.stl\n",
      "SPAI-04-Spine.stl\n",
      "SPAI-05-Spine.stl\n",
      "SPAI-06-Spine.stl\n",
      "SPAI-08-Spine.stl\n",
      "SPAI-02-Spine.stl\n"
     ]
    }
   ],
   "source": [
    "import open3d as o3d\n",
    "import os\n",
    "for file in os.listdir(\"SPAI\"):\n",
    "    name=file.split(\".\")\n",
    "    mesh = o3d.io.read_triangle_mesh(\"SPAI/\"+file)\n",
    "    o3d.io.write_triangle_mesh(\"SPAISTL/\"+name[0]+\".ply\", mesh)\n",
    "    print(file)\n",
    "    "
   ]
  },
  {
   "cell_type": "code",
   "execution_count": 2,
   "metadata": {},
   "outputs": [
    {
     "name": "stdout",
     "output_type": "stream",
     "text": [
      "SPAI-10-C1.stl\n",
      "SPAI-05-C1.stl\n",
      "\u001b[1;33m[Open3D WARNING] Write Ply clamped color value to valid range\u001b[0;m\n",
      "SPAI-01-C1.stl\n",
      "SPAI-02-C1.stl\n",
      "SPAI-08-C1.stl\n",
      "SPAI-03-C1.stl\n",
      "SPAI-07-C1.stl\n",
      "SPAI-09-C1.stl\n",
      "SPAI-04-C1.stl\n",
      "SPAI-06-C1.stl\n"
     ]
    }
   ],
   "source": [
    "import open3d as o3d\n",
    "import os\n",
    "for file in os.listdir(\"C1_part\"):\n",
    "    name=file.split(\".\")\n",
    "    mesh = o3d.io.read_triangle_mesh(\"C1_part/\"+file)\n",
    "    o3d.io.write_triangle_mesh(\"C1_part_ply/\"+name[0]+\".ply\", mesh)\n",
    "    print(file)"
   ]
  },
  {
   "cell_type": "code",
   "execution_count": null,
   "metadata": {},
   "outputs": [],
   "source": []
  }
 ],
 "metadata": {
  "kernelspec": {
   "display_name": "Python 3",
   "language": "python",
   "name": "python3"
  },
  "language_info": {
   "codemirror_mode": {
    "name": "ipython",
    "version": 3
   },
   "file_extension": ".py",
   "mimetype": "text/x-python",
   "name": "python",
   "nbconvert_exporter": "python",
   "pygments_lexer": "ipython3",
   "version": "3.6.9"
  }
 },
 "nbformat": 4,
 "nbformat_minor": 4
}
